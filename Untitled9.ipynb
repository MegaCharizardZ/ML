{
  "nbformat": 4,
  "nbformat_minor": 0,
  "metadata": {
    "colab": {
      "name": "Untitled9.ipynb",
      "provenance": [],
      "authorship_tag": "ABX9TyOETB9+cVeVnNihNam5i6H6",
      "include_colab_link": true
    },
    "kernelspec": {
      "name": "python3",
      "display_name": "Python 3"
    },
    "language_info": {
      "name": "python"
    }
  },
  "cells": [
    {
      "cell_type": "markdown",
      "metadata": {
        "id": "view-in-github",
        "colab_type": "text"
      },
      "source": [
        "<a href=\"https://colab.research.google.com/github/MegaCharizardZ/ML/blob/main/Untitled9.ipynb\" target=\"_parent\"><img src=\"https://colab.research.google.com/assets/colab-badge.svg\" alt=\"Open In Colab\"/></a>"
      ]
    },
    {
      "cell_type": "code",
      "metadata": {
        "id": "Y1vYATL4wqkF"
      },
      "source": [
        "import torch\n",
        "import torchvision\n",
        "import torch.nn as nn\n",
        "import pandas as pd\n",
        "import matplotlib.pyplot as plt\n",
        "import torch.nn.functional as F\n",
        "from torchvision.datasets.utils import download_url\n",
        "from torch.utils.data import DataLoader, TensorDataset, random_split"
      ],
      "execution_count": 6,
      "outputs": []
    },
    {
      "cell_type": "code",
      "metadata": {
        "id": "C2yVhwY9wxtz"
      },
      "source": [
        "project_name='02-assignment-insurance-linear-regression' #"
      ],
      "execution_count": 7,
      "outputs": []
    },
    {
      "cell_type": "code",
      "metadata": {
        "colab": {
          "base_uri": "https://localhost:8080/"
        },
        "id": "8lyaLw4sw0Fy",
        "outputId": "9dcabdac-0b43-43ba-b512-70866325f269"
      },
      "source": [
        "DATASET_URL = \"https://hub.jovian.ml/wp-content/uploads/2020/05/insurance.csv\"\n",
        "DATA_FILENAME = \"insurance.csv\"\n",
        "download_url(DATASET_URL, '.')\n"
      ],
      "execution_count": 8,
      "outputs": [
        {
          "output_type": "stream",
          "text": [
            "Using downloaded and verified file: ./insurance.csv\n"
          ],
          "name": "stdout"
        }
      ]
    },
    {
      "cell_type": "code",
      "metadata": {
        "colab": {
          "base_uri": "https://localhost:8080/",
          "height": 206
        },
        "id": "KNVmTrC3w2ac",
        "outputId": "6a088d69-e59e-44fa-a3e5-9a3fad681897"
      },
      "source": [
        "dataframe_raw = pd.read_csv(DATA_FILENAME)\n",
        "dataframe_raw.head()"
      ],
      "execution_count": 9,
      "outputs": [
        {
          "output_type": "execute_result",
          "data": {
            "text/html": [
              "<div>\n",
              "<style scoped>\n",
              "    .dataframe tbody tr th:only-of-type {\n",
              "        vertical-align: middle;\n",
              "    }\n",
              "\n",
              "    .dataframe tbody tr th {\n",
              "        vertical-align: top;\n",
              "    }\n",
              "\n",
              "    .dataframe thead th {\n",
              "        text-align: right;\n",
              "    }\n",
              "</style>\n",
              "<table border=\"1\" class=\"dataframe\">\n",
              "  <thead>\n",
              "    <tr style=\"text-align: right;\">\n",
              "      <th></th>\n",
              "      <th>age</th>\n",
              "      <th>sex</th>\n",
              "      <th>bmi</th>\n",
              "      <th>children</th>\n",
              "      <th>smoker</th>\n",
              "      <th>region</th>\n",
              "      <th>charges</th>\n",
              "    </tr>\n",
              "  </thead>\n",
              "  <tbody>\n",
              "    <tr>\n",
              "      <th>0</th>\n",
              "      <td>19</td>\n",
              "      <td>female</td>\n",
              "      <td>27.900</td>\n",
              "      <td>0</td>\n",
              "      <td>yes</td>\n",
              "      <td>southwest</td>\n",
              "      <td>16884.92400</td>\n",
              "    </tr>\n",
              "    <tr>\n",
              "      <th>1</th>\n",
              "      <td>18</td>\n",
              "      <td>male</td>\n",
              "      <td>33.770</td>\n",
              "      <td>1</td>\n",
              "      <td>no</td>\n",
              "      <td>southeast</td>\n",
              "      <td>1725.55230</td>\n",
              "    </tr>\n",
              "    <tr>\n",
              "      <th>2</th>\n",
              "      <td>28</td>\n",
              "      <td>male</td>\n",
              "      <td>33.000</td>\n",
              "      <td>3</td>\n",
              "      <td>no</td>\n",
              "      <td>southeast</td>\n",
              "      <td>4449.46200</td>\n",
              "    </tr>\n",
              "    <tr>\n",
              "      <th>3</th>\n",
              "      <td>33</td>\n",
              "      <td>male</td>\n",
              "      <td>22.705</td>\n",
              "      <td>0</td>\n",
              "      <td>no</td>\n",
              "      <td>northwest</td>\n",
              "      <td>21984.47061</td>\n",
              "    </tr>\n",
              "    <tr>\n",
              "      <th>4</th>\n",
              "      <td>32</td>\n",
              "      <td>male</td>\n",
              "      <td>28.880</td>\n",
              "      <td>0</td>\n",
              "      <td>no</td>\n",
              "      <td>northwest</td>\n",
              "      <td>3866.85520</td>\n",
              "    </tr>\n",
              "  </tbody>\n",
              "</table>\n",
              "</div>"
            ],
            "text/plain": [
              "   age     sex     bmi  children smoker     region      charges\n",
              "0   19  female  27.900         0    yes  southwest  16884.92400\n",
              "1   18    male  33.770         1     no  southeast   1725.55230\n",
              "2   28    male  33.000         3     no  southeast   4449.46200\n",
              "3   33    male  22.705         0     no  northwest  21984.47061\n",
              "4   32    male  28.880         0     no  northwest   3866.85520"
            ]
          },
          "metadata": {
            "tags": []
          },
          "execution_count": 9
        }
      ]
    },
    {
      "cell_type": "code",
      "metadata": {
        "id": "NRz5udBZxIV7"
      },
      "source": [
        "your_name = \"Aryan Sinha\" #"
      ],
      "execution_count": 11,
      "outputs": []
    },
    {
      "cell_type": "code",
      "metadata": {
        "id": "brnCwvHNxKeU"
      },
      "source": [
        "def customize_dataset(dataframe_raw, rand_str):\n",
        "    dataframe = dataframe_raw.copy(deep=True)\n",
        "    # drop some rows\n",
        "    dataframe = dataframe.sample(int(0.95*len(dataframe)), random_state=int(ord(rand_str[0])))\n",
        "    # scale input\n",
        "    dataframe.bmi = dataframe.bmi * ord(rand_str[1])/100.\n",
        "    # scale target\n",
        "    dataframe.charges = dataframe.charges * ord(rand_str[2])/100.\n",
        "    # drop column\n",
        "    if ord(rand_str[3]) % 2 == 1:\n",
        "        dataframe = dataframe.drop(['region'], axis=1)\n",
        "    return dataframe"
      ],
      "execution_count": 12,
      "outputs": []
    },
    {
      "cell_type": "code",
      "metadata": {
        "colab": {
          "base_uri": "https://localhost:8080/",
          "height": 206
        },
        "id": "TEAsXz0jw4nY",
        "outputId": "d090804e-b761-4f2c-9f43-5da635d34add"
      },
      "source": [
        "dataframe = customize_dataset(dataframe_raw, your_name)\n",
        "dataframe.head()"
      ],
      "execution_count": 13,
      "outputs": [
        {
          "output_type": "execute_result",
          "data": {
            "text/html": [
              "<div>\n",
              "<style scoped>\n",
              "    .dataframe tbody tr th:only-of-type {\n",
              "        vertical-align: middle;\n",
              "    }\n",
              "\n",
              "    .dataframe tbody tr th {\n",
              "        vertical-align: top;\n",
              "    }\n",
              "\n",
              "    .dataframe thead th {\n",
              "        text-align: right;\n",
              "    }\n",
              "</style>\n",
              "<table border=\"1\" class=\"dataframe\">\n",
              "  <thead>\n",
              "    <tr style=\"text-align: right;\">\n",
              "      <th></th>\n",
              "      <th>age</th>\n",
              "      <th>sex</th>\n",
              "      <th>bmi</th>\n",
              "      <th>children</th>\n",
              "      <th>smoker</th>\n",
              "      <th>charges</th>\n",
              "    </tr>\n",
              "  </thead>\n",
              "  <tbody>\n",
              "    <tr>\n",
              "      <th>27</th>\n",
              "      <td>55</td>\n",
              "      <td>female</td>\n",
              "      <td>37.3635</td>\n",
              "      <td>2</td>\n",
              "      <td>no</td>\n",
              "      <td>14845.045023</td>\n",
              "    </tr>\n",
              "    <tr>\n",
              "      <th>752</th>\n",
              "      <td>64</td>\n",
              "      <td>male</td>\n",
              "      <td>43.2117</td>\n",
              "      <td>0</td>\n",
              "      <td>no</td>\n",
              "      <td>17194.748499</td>\n",
              "    </tr>\n",
              "    <tr>\n",
              "      <th>1258</th>\n",
              "      <td>55</td>\n",
              "      <td>male</td>\n",
              "      <td>42.9951</td>\n",
              "      <td>3</td>\n",
              "      <td>no</td>\n",
              "      <td>36376.932465</td>\n",
              "    </tr>\n",
              "    <tr>\n",
              "      <th>384</th>\n",
              "      <td>44</td>\n",
              "      <td>male</td>\n",
              "      <td>25.2339</td>\n",
              "      <td>2</td>\n",
              "      <td>no</td>\n",
              "      <td>10046.068137</td>\n",
              "    </tr>\n",
              "    <tr>\n",
              "      <th>406</th>\n",
              "      <td>33</td>\n",
              "      <td>female</td>\n",
              "      <td>27.7134</td>\n",
              "      <td>0</td>\n",
              "      <td>no</td>\n",
              "      <td>5063.968459</td>\n",
              "    </tr>\n",
              "  </tbody>\n",
              "</table>\n",
              "</div>"
            ],
            "text/plain": [
              "      age     sex      bmi  children smoker       charges\n",
              "27     55  female  37.3635         2     no  14845.045023\n",
              "752    64    male  43.2117         0     no  17194.748499\n",
              "1258   55    male  42.9951         3     no  36376.932465\n",
              "384    44    male  25.2339         2     no  10046.068137\n",
              "406    33  female  27.7134         0     no   5063.968459"
            ]
          },
          "metadata": {
            "tags": []
          },
          "execution_count": 13
        }
      ]
    },
    {
      "cell_type": "code",
      "metadata": {
        "colab": {
          "base_uri": "https://localhost:8080/"
        },
        "id": "S61zk1_Yw6qz",
        "outputId": "9d15147c-5b8f-4875-da6f-fd6c1bf870ed"
      },
      "source": [
        "num_rows = len(dataframe.index)\n",
        "print(num_rows)"
      ],
      "execution_count": 14,
      "outputs": [
        {
          "output_type": "stream",
          "text": [
            "1271\n"
          ],
          "name": "stdout"
        }
      ]
    },
    {
      "cell_type": "code",
      "metadata": {
        "colab": {
          "base_uri": "https://localhost:8080/"
        },
        "id": "hf8a02SkxR1h",
        "outputId": "f0c5b8af-a203-4d8f-80e5-8105474ffb71"
      },
      "source": [
        "num_cols = len(dataframe.columns)\n",
        "print(num_cols)"
      ],
      "execution_count": 15,
      "outputs": [
        {
          "output_type": "stream",
          "text": [
            "6\n"
          ],
          "name": "stdout"
        }
      ]
    },
    {
      "cell_type": "code",
      "metadata": {
        "colab": {
          "base_uri": "https://localhost:8080/"
        },
        "id": "Heh2g9bzxU_-",
        "outputId": "df7e475a-5964-40c1-f6ec-f57b0822de18"
      },
      "source": [
        "input_cols = list(dataframe.columns)\n",
        "print(input_cols)"
      ],
      "execution_count": 16,
      "outputs": [
        {
          "output_type": "stream",
          "text": [
            "['age', 'sex', 'bmi', 'children', 'smoker', 'charges']\n"
          ],
          "name": "stdout"
        }
      ]
    },
    {
      "cell_type": "code",
      "metadata": {
        "colab": {
          "base_uri": "https://localhost:8080/"
        },
        "id": "G6liD7LQxWrZ",
        "outputId": "30e234bb-8db6-4fb2-c5e4-1b88d6500198"
      },
      "source": [
        "categorical_cols = list(dataframe.select_dtypes([\"object\"]).columns)\n",
        "print(categorical_cols)"
      ],
      "execution_count": 17,
      "outputs": [
        {
          "output_type": "stream",
          "text": [
            "['sex', 'smoker']\n"
          ],
          "name": "stdout"
        }
      ]
    },
    {
      "cell_type": "code",
      "metadata": {
        "colab": {
          "base_uri": "https://localhost:8080/"
        },
        "id": "poGkRSehxYoA",
        "outputId": "72f5e76e-9cf7-446c-dc49-f267dbf41f59"
      },
      "source": [
        "output_cols = [\"charges\"]\n",
        "print(output_cols)"
      ],
      "execution_count": 18,
      "outputs": [
        {
          "output_type": "stream",
          "text": [
            "['charges']\n"
          ],
          "name": "stdout"
        }
      ]
    },
    {
      "cell_type": "code",
      "metadata": {
        "colab": {
          "base_uri": "https://localhost:8080/",
          "height": 449
        },
        "id": "jPdhD8d6xab-",
        "outputId": "801e7913-71a3-4a7b-cf5e-11ca2d4d6817"
      },
      "source": [
        "options = dataframe[\"charges\"].describe()\n",
        "print(options)\n",
        "plt.plot(options)"
      ],
      "execution_count": 19,
      "outputs": [
        {
          "output_type": "stream",
          "text": [
            "count     1271.000000\n",
            "mean     16084.824414\n",
            "std      14705.507755\n",
            "min       1357.467419\n",
            "25%       5709.825198\n",
            "50%      11363.528660\n",
            "75%      20377.208244\n",
            "max      77162.217892\n",
            "Name: charges, dtype: float64\n"
          ],
          "name": "stdout"
        },
        {
          "output_type": "execute_result",
          "data": {
            "text/plain": [
              "[<matplotlib.lines.Line2D at 0x7ff4de6f1ad0>]"
            ]
          },
          "metadata": {
            "tags": []
          },
          "execution_count": 19
        },
        {
          "output_type": "display_data",
          "data": {
            "image/png": "[encoded data removed]",
            "text/plain": [
              "<Figure size 432x288 with 1 Axes>"
            ]
          },
          "metadata": {
            "tags": [],
            "needs_background": "light"
          }
        }
      ]
    },
    {
      "cell_type": "code",
      "metadata": {
        "id": "AT-QY6PZxcWG"
      },
      "source": [
        "def dataframe_to_arrays(dataframe):\n",
        "    # Make a copy of the original dataframe\n",
        "    dataframe1 = dataframe.copy(deep=True)\n",
        "    # Convert non-numeric categorical columns to numbers\n",
        "    for col in categorical_cols:\n",
        "        dataframe1[col] = dataframe1[col].astype('category').cat.codes\n",
        "    # Extract input & outupts as numpy arrays\n",
        "    inputs_array = dataframe1[input_cols].to_numpy()\n",
        "    targets_array = dataframe1[output_cols].to_numpy()\n",
        "    return inputs_array, targets_array"
      ],
      "execution_count": 20,
      "outputs": []
    },
    {
      "cell_type": "code",
      "metadata": {
        "colab": {
          "base_uri": "https://localhost:8080/"
        },
        "id": "Jb_R3dqKxe6C",
        "outputId": "d55ee014-b93d-4b75-ec4e-901b39e902de"
      },
      "source": [
        "inputs_array, targets_array = dataframe_to_arrays(dataframe)\n",
        "inputs_array, targets_array"
      ],
      "execution_count": 21,
      "outputs": [
        {
          "output_type": "execute_result",
          "data": {
            "text/plain": [
              "(array([[5.50000000e+01, 0.00000000e+00, 3.73635000e+01, 2.00000000e+00,\n",
              "         0.00000000e+00, 1.48450450e+04],\n",
              "        [6.40000000e+01, 1.00000000e+00, 4.32117000e+01, 0.00000000e+00,\n",
              "         0.00000000e+00, 1.71947485e+04],\n",
              "        [5.50000000e+01, 1.00000000e+00, 4.29951000e+01, 3.00000000e+00,\n",
              "         0.00000000e+00, 3.63769325e+04],\n",
              "        ...,\n",
              "        [5.60000000e+01, 1.00000000e+00, 2.95659000e+01, 0.00000000e+00,\n",
              "         0.00000000e+00, 1.35101554e+04],\n",
              "        [1.80000000e+01, 0.00000000e+00, 3.45477000e+01, 0.00000000e+00,\n",
              "         0.00000000e+00, 2.66652050e+03],\n",
              "        [4.30000000e+01, 1.00000000e+00, 2.96742000e+01, 0.00000000e+00,\n",
              "         0.00000000e+00, 8.27321613e+03]]), array([[14845.0450225],\n",
              "        [17194.7484995],\n",
              "        [36376.9324655],\n",
              "        ...,\n",
              "        [13510.1553565],\n",
              "        [ 2666.5204995],\n",
              "        [ 8273.216127 ]]))"
            ]
          },
          "metadata": {
            "tags": []
          },
          "execution_count": 21
        }
      ]
    },
    {
      "cell_type": "code",
      "metadata": {
        "id": "8Yv2k2h7xghQ"
      },
      "source": [
        "inputs = torch.from_numpy(inputs_array) \n",
        "targets = torch.from_numpy(targets_array)"
      ],
      "execution_count": 22,
      "outputs": []
    },
    {
      "cell_type": "code",
      "metadata": {
        "colab": {
          "base_uri": "https://localhost:8080/"
        },
        "id": "lUp2TsbCxizM",
        "outputId": "9232919a-6c7a-40ae-95a5-a896b092e4ba"
      },
      "source": [
        "inputs.dtype ,targets.dtype"
      ],
      "execution_count": 23,
      "outputs": [
        {
          "output_type": "execute_result",
          "data": {
            "text/plain": [
              "(torch.float64, torch.float64)"
            ]
          },
          "metadata": {
            "tags": []
          },
          "execution_count": 23
        }
      ]
    },
    {
      "cell_type": "code",
      "metadata": {
        "colab": {
          "base_uri": "https://localhost:8080/"
        },
        "id": "UXfmI6Ywxkjj",
        "outputId": "18cd0a80-662b-4650-dc0a-9127a79c9a52"
      },
      "source": [
        "dataset = TensorDataset(torch.tensor(inputs,dtype=torch.float32), torch.tensor(targets,dtype=torch.float32))"
      ],
      "execution_count": 24,
      "outputs": [
        {
          "output_type": "stream",
          "text": [
            "/usr/local/lib/python3.7/dist-packages/ipykernel_launcher.py:1: UserWarning: To copy construct from a tensor, it is recommended to use sourceTensor.clone().detach() or sourceTensor.clone().detach().requires_grad_(True), rather than torch.tensor(sourceTensor).\n",
            "  \"\"\"Entry point for launching an IPython kernel.\n"
          ],
          "name": "stderr"
        }
      ]
    },
    {
      "cell_type": "code",
      "metadata": {
        "id": "I4u_UyDUxmWa"
      },
      "source": [
        "val_percent = 0.16 # between 0.1 and 0.2\n",
        "val_size = int(num_rows * val_percent)\n",
        "train_size = num_rows - val_size\n",
        "\n",
        "\n",
        "train_ds, val_ds = torch.utils.data.random_split(dataset,[train_size,val_size]) # Use the random_split function to split dataset into 2 parts of the desired length"
      ],
      "execution_count": 25,
      "outputs": []
    },
    {
      "cell_type": "code",
      "metadata": {
        "id": "x8HbRVDKxoz4"
      },
      "source": [
        "batch_size = 50"
      ],
      "execution_count": 26,
      "outputs": []
    },
    {
      "cell_type": "code",
      "metadata": {
        "id": "-Y0f0vjqxrMK"
      },
      "source": [
        "train_loader = DataLoader(train_ds, batch_size, shuffle=True)\n",
        "val_loader = DataLoader(val_ds, batch_size)"
      ],
      "execution_count": 27,
      "outputs": []
    },
    {
      "cell_type": "code",
      "metadata": {
        "colab": {
          "base_uri": "https://localhost:8080/"
        },
        "id": "Clfjeu10xs3j",
        "outputId": "2586014a-98d4-4b04-ee0e-656d4a2f83dd"
      },
      "source": [
        "for xb, yb in train_loader:\n",
        "    print(\"inputs:\", xb)\n",
        "    print(\"targets:\", yb)\n",
        "    break"
      ],
      "execution_count": 28,
      "outputs": [
        {
          "output_type": "stream",
          "text": [
            "inputs: tensor([[4.5000e+01, 1.0000e+00, 3.4428e+01, 1.0000e+00, 0.0000e+00, 9.0037e+03],\n",
            "        [3.3000e+01, 0.0000e+00, 4.0504e+01, 0.0000e+00, 1.0000e+00, 6.6714e+04],\n",
            "        [4.1000e+01, 0.0000e+00, 3.7164e+01, 3.0000e+00, 0.0000e+00, 9.6250e+03],\n",
            "        [4.9000e+01, 1.0000e+00, 4.2009e+01, 0.0000e+00, 0.0000e+00, 9.8322e+03],\n",
            "        [2.8000e+01, 0.0000e+00, 2.9999e+01, 3.0000e+00, 0.0000e+00, 6.4277e+03],\n",
            "        [2.8000e+01, 1.0000e+00, 3.0757e+01, 2.0000e+00, 0.0000e+00, 5.3665e+03],\n",
            "        [2.2000e+01, 1.0000e+00, 3.6172e+01, 0.0000e+00, 0.0000e+00, 2.7283e+03],\n",
            "        [1.8000e+01, 1.0000e+00, 2.9845e+01, 2.0000e+00, 0.0000e+00, 2.7878e+03],\n",
            "        [2.3000e+01, 0.0000e+00, 3.1920e+01, 0.0000e+00, 0.0000e+00, 1.5883e+04],\n",
            "        [2.5000e+01, 0.0000e+00, 3.6742e+01, 1.0000e+00, 0.0000e+00, 2.2044e+04],\n",
            "        [2.4000e+01, 0.0000e+00, 3.8013e+01, 0.0000e+00, 0.0000e+00, 3.4551e+03],\n",
            "        [1.9000e+01, 0.0000e+00, 2.8050e+01, 1.0000e+00, 0.0000e+00, 3.2782e+03],\n",
            "        [5.5000e+01, 0.0000e+00, 3.0757e+01, 0.0000e+00, 0.0000e+00, 1.3410e+04],\n",
            "        [4.1000e+01, 0.0000e+00, 4.2294e+01, 2.0000e+00, 0.0000e+00, 8.9198e+03],\n",
            "        [1.8000e+01, 1.0000e+00, 3.4656e+01, 3.0000e+00, 0.0000e+00, 4.2131e+03],\n",
            "        [3.9000e+01, 1.0000e+00, 3.6868e+01, 2.0000e+00, 0.0000e+00, 7.6691e+03],\n",
            "        [4.3000e+01, 1.0000e+00, 3.1692e+01, 0.0000e+00, 1.0000e+00, 4.5774e+04],\n",
            "        [5.0000e+01, 1.0000e+00, 3.0324e+01, 0.0000e+00, 0.0000e+00, 1.0218e+04],\n",
            "        [5.3000e+01, 1.0000e+00, 3.5739e+01, 0.0000e+00, 0.0000e+00, 3.3089e+04],\n",
            "        [2.5000e+01, 1.0000e+00, 2.9891e+01, 0.0000e+00, 0.0000e+00, 3.2928e+03],\n",
            "        [5.1000e+01, 0.0000e+00, 3.9854e+01, 2.0000e+00, 1.0000e+00, 5.4016e+04],\n",
            "        [4.0000e+01, 0.0000e+00, 2.5331e+01, 2.0000e+00, 1.0000e+00, 2.3528e+04],\n",
            "        [4.2000e+01, 1.0000e+00, 4.1006e+01, 2.0000e+00, 0.0000e+00, 8.6640e+03],\n",
            "        [3.6000e+01, 1.0000e+00, 3.1948e+01, 1.0000e+00, 1.0000e+00, 2.5136e+04],\n",
            "        [1.8000e+01, 1.0000e+00, 3.7996e+01, 0.0000e+00, 0.0000e+00, 1.3745e+03],\n",
            "        [4.6000e+01, 1.0000e+00, 3.1464e+01, 0.0000e+00, 0.0000e+00, 2.9770e+04],\n",
            "        [4.9000e+01, 0.0000e+00, 2.6425e+01, 2.0000e+00, 0.0000e+00, 1.2290e+04],\n",
            "        [3.8000e+01, 1.0000e+00, 3.1732e+01, 2.0000e+00, 0.0000e+00, 7.8116e+03],\n",
            "        [3.0000e+01, 0.0000e+00, 3.2382e+01, 1.0000e+00, 0.0000e+00, 5.4779e+03],\n",
            "        [3.1000e+01, 1.0000e+00, 3.2598e+01, 1.0000e+00, 0.0000e+00, 5.1347e+03],\n",
            "        [2.8000e+01, 1.0000e+00, 4.2294e+01, 1.0000e+00, 0.0000e+00, 3.9654e+03],\n",
            "        [6.2000e+01, 0.0000e+00, 3.7255e+01, 0.0000e+00, 0.0000e+00, 1.6752e+04],\n",
            "        [1.9000e+01, 1.0000e+00, 4.0356e+01, 0.0000e+00, 0.0000e+00, 1.5285e+03],\n",
            "        [2.0000e+01, 0.0000e+00, 3.7620e+01, 0.0000e+00, 0.0000e+00, 2.2749e+03],\n",
            "        [1.8000e+01, 1.0000e+00, 3.8874e+01, 0.0000e+00, 0.0000e+00, 1.3758e+03],\n",
            "        [3.8000e+01, 1.0000e+00, 2.2743e+01, 1.0000e+00, 0.0000e+00, 7.0856e+03],\n",
            "        [5.9000e+01, 0.0000e+00, 2.6967e+01, 0.0000e+00, 1.0000e+00, 3.1071e+04],\n",
            "        [3.7000e+01, 1.0000e+00, 3.1948e+01, 2.0000e+00, 0.0000e+00, 7.5067e+03],\n",
            "        [4.7000e+01, 0.0000e+00, 2.7725e+01, 0.0000e+00, 0.0000e+00, 1.0327e+04],\n",
            "        [3.1000e+01, 1.0000e+00, 3.5197e+01, 0.0000e+00, 0.0000e+00, 4.6679e+03],\n",
            "        [4.2000e+01, 0.0000e+00, 2.9845e+01, 1.0000e+00, 0.0000e+00, 8.5265e+03],\n",
            "        [4.6000e+01, 0.0000e+00, 2.6967e+01, 1.0000e+00, 1.0000e+00, 2.6230e+04],\n",
            "        [4.7000e+01, 0.0000e+00, 5.1665e+01, 1.0000e+00, 0.0000e+00, 1.0370e+04],\n",
            "        [6.0000e+01, 1.0000e+00, 2.7725e+01, 0.0000e+00, 0.0000e+00, 1.5154e+04],\n",
            "        [2.1000e+01, 1.0000e+00, 2.9349e+01, 2.0000e+00, 0.0000e+00, 3.9686e+03],\n",
            "        [4.5000e+01, 1.0000e+00, 2.6100e+01, 2.0000e+00, 1.0000e+00, 2.5529e+04],\n",
            "        [1.8000e+01, 1.0000e+00, 3.8498e+01, 1.0000e+00, 0.0000e+00, 2.0879e+03],\n",
            "        [1.8000e+01, 0.0000e+00, 3.7797e+01, 0.0000e+00, 0.0000e+00, 2.6713e+03],\n",
            "        [2.0000e+01, 1.0000e+00, 3.1948e+01, 1.0000e+00, 1.0000e+00, 2.1248e+04],\n",
            "        [4.6000e+01, 0.0000e+00, 3.8446e+01, 1.0000e+00, 0.0000e+00, 1.0677e+04]])\n",
            "targets: tensor([[ 9003.6738],\n",
            "        [66713.8359],\n",
            "        [ 9624.9658],\n",
            "        [ 9832.1992],\n",
            "        [ 6427.7256],\n",
            "        [ 5366.4639],\n",
            "        [ 2728.3040],\n",
            "        [ 2787.8428],\n",
            "        [15883.2793],\n",
            "        [22043.9746],\n",
            "        [ 3455.0793],\n",
            "        [ 3278.1851],\n",
            "        [13409.9180],\n",
            "        [ 8919.8438],\n",
            "        [ 4213.0601],\n",
            "        [ 7669.0713],\n",
            "        [45773.9648],\n",
            "        [10217.8135],\n",
            "        [33088.7109],\n",
            "        [ 3292.7981],\n",
            "        [54015.8477],\n",
            "        [23527.5625],\n",
            "        [ 8664.0000],\n",
            "        [25136.0898],\n",
            "        [ 1374.4883],\n",
            "        [29769.6895],\n",
            "        [12289.7080],\n",
            "        [ 7811.5938],\n",
            "        [ 5477.8916],\n",
            "        [ 5134.7441],\n",
            "        [ 3965.3647],\n",
            "        [16752.2051],\n",
            "        [ 1528.5312],\n",
            "        [ 2274.8848],\n",
            "        [ 1375.7833],\n",
            "        [ 7085.6421],\n",
            "        [31071.3223],\n",
            "        [ 7506.7212],\n",
            "        [10326.9531],\n",
            "        [ 4667.8887],\n",
            "        [ 8526.5342],\n",
            "        [26229.5137],\n",
            "        [10369.5332],\n",
            "        [15153.5615],\n",
            "        [ 3968.6409],\n",
            "        [25529.2500],\n",
            "        [ 2087.9182],\n",
            "        [ 2671.3140],\n",
            "        [21248.0586],\n",
            "        [10677.0225]])\n"
          ],
          "name": "stdout"
        }
      ]
    },
    {
      "cell_type": "code",
      "metadata": {
        "id": "0C8dESlWxuua"
      },
      "source": [
        "input_size = len(input_cols)\n",
        "output_size = len(output_cols)"
      ],
      "execution_count": 29,
      "outputs": []
    },
    {
      "cell_type": "code",
      "metadata": {
        "id": "r4l4L1tBxyvn"
      },
      "source": [
        "class InsuranceModel(nn.Module):\n",
        "    def __init__(self):\n",
        "        super().__init__()\n",
        "        self.linear = torch.nn.Linear(input_size,output_size)                   # fill this (hint: use input_size & output_size defined above)\n",
        "        \n",
        "    def forward(self, xb):\n",
        "        out =  self.linear(xb)                         # fill this\n",
        "        return out\n",
        "    \n",
        "    def training_step(self, batch):\n",
        "        inputs, targets = batch \n",
        "        # Generate predictions\n",
        "        out = self(inputs)          \n",
        "        # Calcuate loss\n",
        "        loss = torch.nn.functional.mse_loss(out,targets)                       # fill this\n",
        "        return loss\n",
        "    \n",
        "    def validation_step(self, batch):\n",
        "        inputs, targets = batch\n",
        "        # Generate predictions\n",
        "        out = self(inputs)\n",
        "        # Calculate loss\n",
        "        loss = torch.nn.functional.mse_loss(out,targets)                           # fill this    \n",
        "        return {'val_loss': loss.detach()}\n",
        "        \n",
        "    def validation_epoch_end(self, outputs):\n",
        "        batch_losses = [x['val_loss'] for x in outputs]\n",
        "        epoch_loss = torch.stack(batch_losses).mean()   # Combine losses\n",
        "        return {'val_loss': epoch_loss.item()}\n",
        "    \n",
        "    def epoch_end(self, epoch, result, num_epochs):\n",
        "        # Print result every 20th epoch\n",
        "        if (epoch+1) % 20 == 0 or epoch == num_epochs-1:\n",
        "            print(\"Epoch [{}], val_loss: {:.4f}\".format(epoch+1, result['val_loss']))"
      ],
      "execution_count": 30,
      "outputs": []
    },
    {
      "cell_type": "code",
      "metadata": {
        "id": "kIYqE4pkx1gx"
      },
      "source": [
        "model = InsuranceModel()"
      ],
      "execution_count": 31,
      "outputs": []
    },
    {
      "cell_type": "code",
      "metadata": {
        "colab": {
          "base_uri": "https://localhost:8080/"
        },
        "id": "wt0BwCgZx3Kv",
        "outputId": "d1422451-2737-421c-fc63-ad7330717866"
      },
      "source": [
        "list(model.parameters())"
      ],
      "execution_count": 32,
      "outputs": [
        {
          "output_type": "execute_result",
          "data": {
            "text/plain": [
              "[Parameter containing:\n",
              " tensor([[-0.3125, -0.2301,  0.4004, -0.3172, -0.3076, -0.1289]],\n",
              "        requires_grad=True), Parameter containing:\n",
              " tensor([0.3923], requires_grad=True)]"
            ]
          },
          "metadata": {
            "tags": []
          },
          "execution_count": 32
        }
      ]
    },
    {
      "cell_type": "code",
      "metadata": {
        "id": "5QAGaD92yCtR"
      },
      "source": [
        "def evaluate(model, val_loader):\n",
        "    outputs = [model.validation_step(batch) for batch in val_loader]\n",
        "    return model.validation_epoch_end(outputs)\n",
        "\n",
        "def fit(epochs, lr, model, train_loader, val_loader, opt_func=torch.optim.SGD):\n",
        "    history = []\n",
        "    optimizer = opt_func(model.parameters(), lr)\n",
        "    for (epoch) in range((epochs)):\n",
        "        # Training Phase \n",
        "        for batch in train_loader:\n",
        "            loss = model.training_step(batch)\n",
        "            loss.backward()\n",
        "            optimizer.step()\n",
        "            optimizer.zero_grad()\n",
        "        # Validation phase\n",
        "        result = evaluate(model, val_loader)\n",
        "        model.epoch_end(epoch, result,epochs)\n",
        "        history.append(result)\n",
        "    return history"
      ],
      "execution_count": 34,
      "outputs": []
    },
    {
      "cell_type": "code",
      "metadata": {
        "colab": {
          "base_uri": "https://localhost:8080/"
        },
        "id": "wCmXTNg7x434",
        "outputId": "e9b22b75-b8c3-43cb-c6ea-b16e0e05764e"
      },
      "source": [
        "result = evaluate(model,val_loader) # Use the the evaluate function\n",
        "print(result)"
      ],
      "execution_count": 35,
      "outputs": [
        {
          "output_type": "stream",
          "text": [
            "{'val_loss': 546169856.0}\n"
          ],
          "name": "stdout"
        }
      ]
    },
    {
      "cell_type": "code",
      "metadata": {
        "colab": {
          "base_uri": "https://localhost:8080/"
        },
        "id": "trtzb-3zx8hF",
        "outputId": "877f0b39-e6c5-42e3-c727-31bd241b9cf2"
      },
      "source": [
        "lr=1e-20\n",
        "history1 = fit(10, lr, model, train_loader, val_loader)"
      ],
      "execution_count": 36,
      "outputs": [
        {
          "output_type": "stream",
          "text": [
            "Epoch [10], val_loss: 546169856.0000\n"
          ],
          "name": "stdout"
        }
      ]
    },
    {
      "cell_type": "code",
      "metadata": {
        "colab": {
          "base_uri": "https://localhost:8080/"
        },
        "id": "D_L8aKUzyGPO",
        "outputId": "a354d3ed-ff77-40db-b29c-89dce9067485"
      },
      "source": [
        "\n",
        "lr = 1e-21\n",
        "history2 = fit(10, lr, model, train_loader, val_loader)"
      ],
      "execution_count": 37,
      "outputs": [
        {
          "output_type": "stream",
          "text": [
            "Epoch [10], val_loss: 546169856.0000\n"
          ],
          "name": "stdout"
        }
      ]
    },
    {
      "cell_type": "code",
      "metadata": {
        "colab": {
          "base_uri": "https://localhost:8080/"
        },
        "id": "6YReAaclyc3x",
        "outputId": "fff12e9c-e2f5-4578-a59f-a9a5e68e9b32"
      },
      "source": [
        "\n",
        "lr = 1e-15\n",
        "history2 = fit(10, lr, model, train_loader, val_loader)"
      ],
      "execution_count": 38,
      "outputs": [
        {
          "output_type": "stream",
          "text": [
            "Epoch [10], val_loss: 545938304.0000\n"
          ],
          "name": "stdout"
        }
      ]
    },
    {
      "cell_type": "code",
      "metadata": {
        "colab": {
          "base_uri": "https://localhost:8080/"
        },
        "id": "T5gVSqOgyih5",
        "outputId": "979dde33-339e-48a3-cb05-de21cb4d7a1b"
      },
      "source": [
        "lr = 1e-10\n",
        "history = fit(10, lr, model, train_loader, val_loader)"
      ],
      "execution_count": 43,
      "outputs": [
        {
          "output_type": "stream",
          "text": [
            "Epoch [10], val_loss: 30.0060\n"
          ],
          "name": "stdout"
        }
      ]
    },
    {
      "cell_type": "code",
      "metadata": {
        "colab": {
          "base_uri": "https://localhost:8080/"
        },
        "id": "tTiJ9PF-ynux",
        "outputId": "bae0d04a-8241-4851-c74b-a73009602f16"
      },
      "source": [
        "\n",
        "lr = 1e-9\n",
        "history2 = fit(10, lr, model, train_loader, val_loader)"
      ],
      "execution_count": 44,
      "outputs": [
        {
          "output_type": "stream",
          "text": [
            "Epoch [10], val_loss: 31.3389\n"
          ],
          "name": "stdout"
        }
      ]
    },
    {
      "cell_type": "code",
      "metadata": {
        "id": "hZ9GTzVGy1a5"
      },
      "source": [
        "val_loss =  [r['val_loss'] for r in [result] + history]"
      ],
      "execution_count": 45,
      "outputs": []
    },
    {
      "cell_type": "code",
      "metadata": {
        "id": "91F7zTB3zAYV"
      },
      "source": [
        "def predict_single(input, target, model):\n",
        "    inputs = input.unsqueeze(0)\n",
        "    predictions = model(input)                # fill this\n",
        "    prediction = predictions[0].detach()\n",
        "    print(\"Input:\", input)\n",
        "    print(\"Target:\", target)\n",
        "    print(\"Prediction:\", prediction)"
      ],
      "execution_count": 50,
      "outputs": []
    },
    {
      "cell_type": "code",
      "metadata": {
        "colab": {
          "base_uri": "https://localhost:8080/"
        },
        "id": "TjqP2lHuz7cv",
        "outputId": "1f2dd212-6cd0-42bb-d2b6-c7988a777ca0"
      },
      "source": [
        "input, target = val_ds[0]\n",
        "predict_single(input, target, model)"
      ],
      "execution_count": 51,
      "outputs": [
        {
          "output_type": "stream",
          "text": [
            "Input: tensor([2.6000e+01, 0.0000e+00, 2.2572e+01, 1.0000e+00, 0.0000e+00, 4.0885e+03])\n",
            "Target: tensor([4088.4812])\n",
            "Prediction: tensor(4089.5132)\n"
          ],
          "name": "stdout"
        }
      ]
    },
    {
      "cell_type": "code",
      "metadata": {
        "colab": {
          "base_uri": "https://localhost:8080/"
        },
        "id": "Dd5HEoERz-_c",
        "outputId": "de666388-5947-489a-a853-7bceb8f666cb"
      },
      "source": [
        "input, target = val_ds[10]\n",
        "predict_single(input, target, model)"
      ],
      "execution_count": 52,
      "outputs": [
        {
          "output_type": "stream",
          "text": [
            "Input: tensor([2.2000e+01, 1.0000e+00, 4.5030e+01, 0.0000e+00, 0.0000e+00, 2.0359e+03])\n",
            "Target: tensor([2035.9424])\n",
            "Prediction: tensor(2047.3403)\n"
          ],
          "name": "stdout"
        }
      ]
    },
    {
      "cell_type": "code",
      "metadata": {
        "colab": {
          "base_uri": "https://localhost:8080/"
        },
        "id": "wkC0jlw01THC",
        "outputId": "48681246-47df-4a61-cb2e-9afa6ae8ebd9"
      },
      "source": [
        "input, target = val_ds[23]\n",
        "predict_single(input, target, model)"
      ],
      "execution_count": 53,
      "outputs": [
        {
          "output_type": "stream",
          "text": [
            "Input: tensor([5.5000e+01, 1.0000e+00, 3.7244e+01, 1.0000e+00, 0.0000e+00, 1.3077e+04])\n",
            "Target: tensor([13077.0586])\n",
            "Prediction: tensor(13074.6777)\n"
          ],
          "name": "stdout"
        }
      ]
    },
    {
      "cell_type": "code",
      "metadata": {
        "id": "ciRbzb1c1WwL"
      },
      "source": [
        ""
      ],
      "execution_count": null,
      "outputs": []
    }
  ]
}